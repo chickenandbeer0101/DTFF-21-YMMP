{
 "cells": [
  {
   "cell_type": "code",
   "execution_count": 1,
   "id": "8cee4001-092d-47a6-a57d-cb624e91a186",
   "metadata": {},
   "outputs": [],
   "source": [
    "from data.downstream import *\n",
    "\n",
    "test_data=get_crypto_data(\"ETH\")\n",
    "\n",
    "#store as a blob\n",
    "\n",
    "    \n",
    "#pw: 1234\n",
    "\n",
    "\n",
    "\n",
    "\n"
   ]
  },
  {
   "cell_type": "code",
   "execution_count": 3,
   "id": "3bf2733e-c0a3-4fca-b55c-f0de222ca8c7",
   "metadata": {},
   "outputs": [
    {
     "name": "stdout",
     "output_type": "stream",
     "text": [
      "         date  coin_id  cmc_rank    market_cap     price      open      high  \\\n",
      "0  2015-08-07     1027         4  1.666106e+08  2.772121       NaN       NaN   \n",
      "1  2015-08-08     1027         4  4.548690e+07  0.753325  2.793760  2.798810   \n",
      "2  2015-08-09     1027         4  4.239955e+07  0.701897  0.706136  0.879810   \n",
      "3  2015-08-10     1027         4  4.281836e+07  0.708448  0.713989  0.729854   \n",
      "4  2015-08-11     1027         4  6.456925e+07  1.067859  0.708087  1.131410   \n",
      "\n",
      "        low     close time_high  time_low    volume_24h  percent_change_1h  \\\n",
      "0       NaN       NaN      None      None  1.643292e+05           3.438040   \n",
      "1  0.714725  0.753325  00:29:29  19:39:30  6.741877e+05          -9.849120   \n",
      "2  0.629191  0.701897  06:44:29  01:49:30  5.321703e+05         -10.081600   \n",
      "3  0.636546  0.708448  18:54:31  07:34:32  4.052831e+05           4.286270   \n",
      "4  0.663235  1.067860  20:39:29  06:29:29  1.463103e+06           0.025007   \n",
      "\n",
      "   percent_change_24h  percent_change_7d  circulating_supply  total_supply  \\\n",
      "0             0.00000                0.0        6.010222e+07  7.200245e+07   \n",
      "1           -72.73750                0.0        6.038150e+07  7.228298e+07   \n",
      "2            -8.03495                0.0        6.040712e+07  7.230860e+07   \n",
      "3            -2.29319                0.0        6.043967e+07  7.234116e+07   \n",
      "4            52.88000                0.0        6.046606e+07  7.236755e+07   \n",
      "\n",
      "   max_supply  num_market_pairs  \n",
      "0         0.0                 0  \n",
      "1         0.0                 0  \n",
      "2         0.0                 0  \n",
      "3         0.0                 0  \n",
      "4         0.0                 0  \n"
     ]
    }
   ],
   "source": [
    "print(test_data.head())        \n"
   ]
  },
  {
   "cell_type": "code",
   "execution_count": null,
   "id": "9221b61b-c4dd-433c-81a4-00c099bc606a",
   "metadata": {},
   "outputs": [],
   "source": []
  },
  {
   "cell_type": "code",
   "execution_count": null,
   "id": "76143d28-601b-454f-89f1-3417d3df31a9",
   "metadata": {},
   "outputs": [],
   "source": []
  },
  {
   "cell_type": "code",
   "execution_count": null,
   "id": "3cb38e3d-361b-4cea-8b3b-d4e94f64d43a",
   "metadata": {},
   "outputs": [],
   "source": []
  }
 ],
 "metadata": {
  "kernelspec": {
   "display_name": "Python 3",
   "language": "python",
   "name": "python3"
  },
  "language_info": {
   "codemirror_mode": {
    "name": "ipython",
    "version": 3
   },
   "file_extension": ".py",
   "mimetype": "text/x-python",
   "name": "python",
   "nbconvert_exporter": "python",
   "pygments_lexer": "ipython3",
   "version": "3.8.8"
  }
 },
 "nbformat": 4,
 "nbformat_minor": 5
}
